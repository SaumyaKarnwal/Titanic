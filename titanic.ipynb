{
 "cells": [
  {
   "cell_type": "code",
   "execution_count": 1,
   "id": "7f25c62f",
   "metadata": {
    "_cell_guid": "b1076dfc-b9ad-4769-8c92-a6c4dae69d19",
    "_uuid": "8f2839f25d086af736a60e9eeb907d3b93b6e0e5",
    "execution": {
     "iopub.execute_input": "2023-03-21T07:01:52.889238Z",
     "iopub.status.busy": "2023-03-21T07:01:52.888796Z",
     "iopub.status.idle": "2023-03-21T07:01:52.904548Z",
     "shell.execute_reply": "2023-03-21T07:01:52.903157Z"
    },
    "papermill": {
     "duration": 0.027169,
     "end_time": "2023-03-21T07:01:52.907794",
     "exception": false,
     "start_time": "2023-03-21T07:01:52.880625",
     "status": "completed"
    },
    "tags": []
   },
   "outputs": [
    {
     "name": "stdout",
     "output_type": "stream",
     "text": [
      "/kaggle/input/titanic/train.csv\n",
      "/kaggle/input/titanic/test.csv\n",
      "/kaggle/input/titanic/gender_submission.csv\n"
     ]
    }
   ],
   "source": [
    "# This Python 3 environment comes with many helpful analytics libraries installed\n",
    "# It is defined by the kaggle/python Docker image: https://github.com/kaggle/docker-python\n",
    "# For example, here's several helpful packages to load\n",
    "\n",
    "import numpy as np # linear algebra\n",
    "import pandas as pd # data processing, CSV file I/O (e.g. pd.read_csv)\n",
    "\n",
    "# Input data files are available in the read-only \"../input/\" directory\n",
    "# For example, running this (by clicking run or pressing Shift+Enter) will list all files under the input directory\n",
    "\n",
    "import os\n",
    "for dirname, _, filenames in os.walk('/kaggle/input'):\n",
    "    for filename in filenames:\n",
    "        print(os.path.join(dirname, filename))\n",
    "\n",
    "# You can write up to 20GB to the current directory (/kaggle/working/) that gets preserved as output when you create a version using \"Save & Run All\" \n",
    "# You can also write temporary files to /kaggle/temp/, but they won't be saved outside of the current session"
   ]
  },
  {
   "cell_type": "code",
   "execution_count": 2,
   "id": "dcc729a5",
   "metadata": {
    "execution": {
     "iopub.execute_input": "2023-03-21T07:01:52.920803Z",
     "iopub.status.busy": "2023-03-21T07:01:52.919992Z",
     "iopub.status.idle": "2023-03-21T07:01:52.973930Z",
     "shell.execute_reply": "2023-03-21T07:01:52.972623Z"
    },
    "papermill": {
     "duration": 0.063389,
     "end_time": "2023-03-21T07:01:52.976583",
     "exception": false,
     "start_time": "2023-03-21T07:01:52.913194",
     "status": "completed"
    },
    "tags": []
   },
   "outputs": [
    {
     "data": {
      "text/html": [
       "<div>\n",
       "<style scoped>\n",
       "    .dataframe tbody tr th:only-of-type {\n",
       "        vertical-align: middle;\n",
       "    }\n",
       "\n",
       "    .dataframe tbody tr th {\n",
       "        vertical-align: top;\n",
       "    }\n",
       "\n",
       "    .dataframe thead th {\n",
       "        text-align: right;\n",
       "    }\n",
       "</style>\n",
       "<table border=\"1\" class=\"dataframe\">\n",
       "  <thead>\n",
       "    <tr style=\"text-align: right;\">\n",
       "      <th></th>\n",
       "      <th>PassengerId</th>\n",
       "      <th>Survived</th>\n",
       "      <th>Pclass</th>\n",
       "      <th>Name</th>\n",
       "      <th>Sex</th>\n",
       "      <th>Age</th>\n",
       "      <th>SibSp</th>\n",
       "      <th>Parch</th>\n",
       "      <th>Ticket</th>\n",
       "      <th>Fare</th>\n",
       "      <th>Cabin</th>\n",
       "      <th>Embarked</th>\n",
       "    </tr>\n",
       "  </thead>\n",
       "  <tbody>\n",
       "    <tr>\n",
       "      <th>0</th>\n",
       "      <td>1</td>\n",
       "      <td>0</td>\n",
       "      <td>3</td>\n",
       "      <td>Braund, Mr. Owen Harris</td>\n",
       "      <td>male</td>\n",
       "      <td>22.0</td>\n",
       "      <td>1</td>\n",
       "      <td>0</td>\n",
       "      <td>A/5 21171</td>\n",
       "      <td>7.2500</td>\n",
       "      <td>NaN</td>\n",
       "      <td>S</td>\n",
       "    </tr>\n",
       "    <tr>\n",
       "      <th>1</th>\n",
       "      <td>2</td>\n",
       "      <td>1</td>\n",
       "      <td>1</td>\n",
       "      <td>Cumings, Mrs. John Bradley (Florence Briggs Th...</td>\n",
       "      <td>female</td>\n",
       "      <td>38.0</td>\n",
       "      <td>1</td>\n",
       "      <td>0</td>\n",
       "      <td>PC 17599</td>\n",
       "      <td>71.2833</td>\n",
       "      <td>C85</td>\n",
       "      <td>C</td>\n",
       "    </tr>\n",
       "    <tr>\n",
       "      <th>2</th>\n",
       "      <td>3</td>\n",
       "      <td>1</td>\n",
       "      <td>3</td>\n",
       "      <td>Heikkinen, Miss. Laina</td>\n",
       "      <td>female</td>\n",
       "      <td>26.0</td>\n",
       "      <td>0</td>\n",
       "      <td>0</td>\n",
       "      <td>STON/O2. 3101282</td>\n",
       "      <td>7.9250</td>\n",
       "      <td>NaN</td>\n",
       "      <td>S</td>\n",
       "    </tr>\n",
       "    <tr>\n",
       "      <th>3</th>\n",
       "      <td>4</td>\n",
       "      <td>1</td>\n",
       "      <td>1</td>\n",
       "      <td>Futrelle, Mrs. Jacques Heath (Lily May Peel)</td>\n",
       "      <td>female</td>\n",
       "      <td>35.0</td>\n",
       "      <td>1</td>\n",
       "      <td>0</td>\n",
       "      <td>113803</td>\n",
       "      <td>53.1000</td>\n",
       "      <td>C123</td>\n",
       "      <td>S</td>\n",
       "    </tr>\n",
       "    <tr>\n",
       "      <th>4</th>\n",
       "      <td>5</td>\n",
       "      <td>0</td>\n",
       "      <td>3</td>\n",
       "      <td>Allen, Mr. William Henry</td>\n",
       "      <td>male</td>\n",
       "      <td>35.0</td>\n",
       "      <td>0</td>\n",
       "      <td>0</td>\n",
       "      <td>373450</td>\n",
       "      <td>8.0500</td>\n",
       "      <td>NaN</td>\n",
       "      <td>S</td>\n",
       "    </tr>\n",
       "  </tbody>\n",
       "</table>\n",
       "</div>"
      ],
      "text/plain": [
       "   PassengerId  Survived  Pclass  \\\n",
       "0            1         0       3   \n",
       "1            2         1       1   \n",
       "2            3         1       3   \n",
       "3            4         1       1   \n",
       "4            5         0       3   \n",
       "\n",
       "                                                Name     Sex   Age  SibSp  \\\n",
       "0                            Braund, Mr. Owen Harris    male  22.0      1   \n",
       "1  Cumings, Mrs. John Bradley (Florence Briggs Th...  female  38.0      1   \n",
       "2                             Heikkinen, Miss. Laina  female  26.0      0   \n",
       "3       Futrelle, Mrs. Jacques Heath (Lily May Peel)  female  35.0      1   \n",
       "4                           Allen, Mr. William Henry    male  35.0      0   \n",
       "\n",
       "   Parch            Ticket     Fare Cabin Embarked  \n",
       "0      0         A/5 21171   7.2500   NaN        S  \n",
       "1      0          PC 17599  71.2833   C85        C  \n",
       "2      0  STON/O2. 3101282   7.9250   NaN        S  \n",
       "3      0            113803  53.1000  C123        S  \n",
       "4      0            373450   8.0500   NaN        S  "
      ]
     },
     "execution_count": 2,
     "metadata": {},
     "output_type": "execute_result"
    }
   ],
   "source": [
    "train_data = pd.read_csv(\"/kaggle/input/titanic/train.csv\")\n",
    "train_data.head()"
   ]
  },
  {
   "cell_type": "code",
   "execution_count": 3,
   "id": "355a1069",
   "metadata": {
    "execution": {
     "iopub.execute_input": "2023-03-21T07:01:52.990163Z",
     "iopub.status.busy": "2023-03-21T07:01:52.989735Z",
     "iopub.status.idle": "2023-03-21T07:01:53.012015Z",
     "shell.execute_reply": "2023-03-21T07:01:53.010791Z"
    },
    "papermill": {
     "duration": 0.032037,
     "end_time": "2023-03-21T07:01:53.014814",
     "exception": false,
     "start_time": "2023-03-21T07:01:52.982777",
     "status": "completed"
    },
    "tags": []
   },
   "outputs": [
    {
     "data": {
      "text/html": [
       "<div>\n",
       "<style scoped>\n",
       "    .dataframe tbody tr th:only-of-type {\n",
       "        vertical-align: middle;\n",
       "    }\n",
       "\n",
       "    .dataframe tbody tr th {\n",
       "        vertical-align: top;\n",
       "    }\n",
       "\n",
       "    .dataframe thead th {\n",
       "        text-align: right;\n",
       "    }\n",
       "</style>\n",
       "<table border=\"1\" class=\"dataframe\">\n",
       "  <thead>\n",
       "    <tr style=\"text-align: right;\">\n",
       "      <th></th>\n",
       "      <th>PassengerId</th>\n",
       "      <th>Pclass</th>\n",
       "      <th>Name</th>\n",
       "      <th>Sex</th>\n",
       "      <th>Age</th>\n",
       "      <th>SibSp</th>\n",
       "      <th>Parch</th>\n",
       "      <th>Ticket</th>\n",
       "      <th>Fare</th>\n",
       "      <th>Cabin</th>\n",
       "      <th>Embarked</th>\n",
       "    </tr>\n",
       "  </thead>\n",
       "  <tbody>\n",
       "    <tr>\n",
       "      <th>0</th>\n",
       "      <td>892</td>\n",
       "      <td>3</td>\n",
       "      <td>Kelly, Mr. James</td>\n",
       "      <td>male</td>\n",
       "      <td>34.5</td>\n",
       "      <td>0</td>\n",
       "      <td>0</td>\n",
       "      <td>330911</td>\n",
       "      <td>7.8292</td>\n",
       "      <td>NaN</td>\n",
       "      <td>Q</td>\n",
       "    </tr>\n",
       "    <tr>\n",
       "      <th>1</th>\n",
       "      <td>893</td>\n",
       "      <td>3</td>\n",
       "      <td>Wilkes, Mrs. James (Ellen Needs)</td>\n",
       "      <td>female</td>\n",
       "      <td>47.0</td>\n",
       "      <td>1</td>\n",
       "      <td>0</td>\n",
       "      <td>363272</td>\n",
       "      <td>7.0000</td>\n",
       "      <td>NaN</td>\n",
       "      <td>S</td>\n",
       "    </tr>\n",
       "    <tr>\n",
       "      <th>2</th>\n",
       "      <td>894</td>\n",
       "      <td>2</td>\n",
       "      <td>Myles, Mr. Thomas Francis</td>\n",
       "      <td>male</td>\n",
       "      <td>62.0</td>\n",
       "      <td>0</td>\n",
       "      <td>0</td>\n",
       "      <td>240276</td>\n",
       "      <td>9.6875</td>\n",
       "      <td>NaN</td>\n",
       "      <td>Q</td>\n",
       "    </tr>\n",
       "    <tr>\n",
       "      <th>3</th>\n",
       "      <td>895</td>\n",
       "      <td>3</td>\n",
       "      <td>Wirz, Mr. Albert</td>\n",
       "      <td>male</td>\n",
       "      <td>27.0</td>\n",
       "      <td>0</td>\n",
       "      <td>0</td>\n",
       "      <td>315154</td>\n",
       "      <td>8.6625</td>\n",
       "      <td>NaN</td>\n",
       "      <td>S</td>\n",
       "    </tr>\n",
       "    <tr>\n",
       "      <th>4</th>\n",
       "      <td>896</td>\n",
       "      <td>3</td>\n",
       "      <td>Hirvonen, Mrs. Alexander (Helga E Lindqvist)</td>\n",
       "      <td>female</td>\n",
       "      <td>22.0</td>\n",
       "      <td>1</td>\n",
       "      <td>1</td>\n",
       "      <td>3101298</td>\n",
       "      <td>12.2875</td>\n",
       "      <td>NaN</td>\n",
       "      <td>S</td>\n",
       "    </tr>\n",
       "  </tbody>\n",
       "</table>\n",
       "</div>"
      ],
      "text/plain": [
       "   PassengerId  Pclass                                          Name     Sex  \\\n",
       "0          892       3                              Kelly, Mr. James    male   \n",
       "1          893       3              Wilkes, Mrs. James (Ellen Needs)  female   \n",
       "2          894       2                     Myles, Mr. Thomas Francis    male   \n",
       "3          895       3                              Wirz, Mr. Albert    male   \n",
       "4          896       3  Hirvonen, Mrs. Alexander (Helga E Lindqvist)  female   \n",
       "\n",
       "    Age  SibSp  Parch   Ticket     Fare Cabin Embarked  \n",
       "0  34.5      0      0   330911   7.8292   NaN        Q  \n",
       "1  47.0      1      0   363272   7.0000   NaN        S  \n",
       "2  62.0      0      0   240276   9.6875   NaN        Q  \n",
       "3  27.0      0      0   315154   8.6625   NaN        S  \n",
       "4  22.0      1      1  3101298  12.2875   NaN        S  "
      ]
     },
     "execution_count": 3,
     "metadata": {},
     "output_type": "execute_result"
    }
   ],
   "source": [
    "test_data = pd.read_csv(\"/kaggle/input/titanic/test.csv\")\n",
    "test_data.head()\n"
   ]
  },
  {
   "cell_type": "code",
   "execution_count": 4,
   "id": "65ecfb7e",
   "metadata": {
    "execution": {
     "iopub.execute_input": "2023-03-21T07:01:53.028823Z",
     "iopub.status.busy": "2023-03-21T07:01:53.028400Z",
     "iopub.status.idle": "2023-03-21T07:01:53.050399Z",
     "shell.execute_reply": "2023-03-21T07:01:53.048912Z"
    },
    "papermill": {
     "duration": 0.032295,
     "end_time": "2023-03-21T07:01:53.053187",
     "exception": false,
     "start_time": "2023-03-21T07:01:53.020892",
     "status": "completed"
    },
    "tags": []
   },
   "outputs": [
    {
     "data": {
      "text/html": [
       "<div>\n",
       "<style scoped>\n",
       "    .dataframe tbody tr th:only-of-type {\n",
       "        vertical-align: middle;\n",
       "    }\n",
       "\n",
       "    .dataframe tbody tr th {\n",
       "        vertical-align: top;\n",
       "    }\n",
       "\n",
       "    .dataframe thead th {\n",
       "        text-align: right;\n",
       "    }\n",
       "</style>\n",
       "<table border=\"1\" class=\"dataframe\">\n",
       "  <thead>\n",
       "    <tr style=\"text-align: right;\">\n",
       "      <th></th>\n",
       "      <th>Pclass</th>\n",
       "      <th>Sex</th>\n",
       "      <th>Age</th>\n",
       "      <th>SibSp</th>\n",
       "      <th>Parch</th>\n",
       "      <th>Fare</th>\n",
       "      <th>Cabin</th>\n",
       "      <th>Embarked</th>\n",
       "    </tr>\n",
       "  </thead>\n",
       "  <tbody>\n",
       "    <tr>\n",
       "      <th>0</th>\n",
       "      <td>3</td>\n",
       "      <td>male</td>\n",
       "      <td>22.0</td>\n",
       "      <td>1</td>\n",
       "      <td>0</td>\n",
       "      <td>7.2500</td>\n",
       "      <td>NaN</td>\n",
       "      <td>S</td>\n",
       "    </tr>\n",
       "    <tr>\n",
       "      <th>1</th>\n",
       "      <td>1</td>\n",
       "      <td>female</td>\n",
       "      <td>38.0</td>\n",
       "      <td>1</td>\n",
       "      <td>0</td>\n",
       "      <td>71.2833</td>\n",
       "      <td>C85</td>\n",
       "      <td>C</td>\n",
       "    </tr>\n",
       "    <tr>\n",
       "      <th>2</th>\n",
       "      <td>3</td>\n",
       "      <td>female</td>\n",
       "      <td>26.0</td>\n",
       "      <td>0</td>\n",
       "      <td>0</td>\n",
       "      <td>7.9250</td>\n",
       "      <td>NaN</td>\n",
       "      <td>S</td>\n",
       "    </tr>\n",
       "    <tr>\n",
       "      <th>3</th>\n",
       "      <td>1</td>\n",
       "      <td>female</td>\n",
       "      <td>35.0</td>\n",
       "      <td>1</td>\n",
       "      <td>0</td>\n",
       "      <td>53.1000</td>\n",
       "      <td>C123</td>\n",
       "      <td>S</td>\n",
       "    </tr>\n",
       "    <tr>\n",
       "      <th>4</th>\n",
       "      <td>3</td>\n",
       "      <td>male</td>\n",
       "      <td>35.0</td>\n",
       "      <td>0</td>\n",
       "      <td>0</td>\n",
       "      <td>8.0500</td>\n",
       "      <td>NaN</td>\n",
       "      <td>S</td>\n",
       "    </tr>\n",
       "  </tbody>\n",
       "</table>\n",
       "</div>"
      ],
      "text/plain": [
       "   Pclass     Sex   Age  SibSp  Parch     Fare Cabin Embarked\n",
       "0       3    male  22.0      1      0   7.2500   NaN        S\n",
       "1       1  female  38.0      1      0  71.2833   C85        C\n",
       "2       3  female  26.0      0      0   7.9250   NaN        S\n",
       "3       1  female  35.0      1      0  53.1000  C123        S\n",
       "4       3    male  35.0      0      0   8.0500   NaN        S"
      ]
     },
     "execution_count": 4,
     "metadata": {},
     "output_type": "execute_result"
    }
   ],
   "source": [
    "X= train_data[[\"Pclass\",\"Sex\",\"Age\",\"SibSp\",\"Parch\",\"Fare\",\"Cabin\",\"Embarked\"]]\n",
    "y= train_data[\"Survived\"]\n",
    "X.head()\n",
    "# y.head()"
   ]
  },
  {
   "cell_type": "code",
   "execution_count": 5,
   "id": "caff9836",
   "metadata": {
    "execution": {
     "iopub.execute_input": "2023-03-21T07:01:53.067129Z",
     "iopub.status.busy": "2023-03-21T07:01:53.066722Z",
     "iopub.status.idle": "2023-03-21T07:01:53.082022Z",
     "shell.execute_reply": "2023-03-21T07:01:53.080437Z"
    },
    "papermill": {
     "duration": 0.025618,
     "end_time": "2023-03-21T07:01:53.084861",
     "exception": false,
     "start_time": "2023-03-21T07:01:53.059243",
     "status": "completed"
    },
    "tags": []
   },
   "outputs": [
    {
     "name": "stderr",
     "output_type": "stream",
     "text": [
      "/opt/conda/lib/python3.7/site-packages/ipykernel_launcher.py:1: SettingWithCopyWarning: \n",
      "A value is trying to be set on a copy of a slice from a DataFrame.\n",
      "Try using .loc[row_indexer,col_indexer] = value instead\n",
      "\n",
      "See the caveats in the documentation: https://pandas.pydata.org/pandas-docs/stable/user_guide/indexing.html#returning-a-view-versus-a-copy\n",
      "  \"\"\"Entry point for launching an IPython kernel.\n",
      "/opt/conda/lib/python3.7/site-packages/ipykernel_launcher.py:2: SettingWithCopyWarning: \n",
      "A value is trying to be set on a copy of a slice from a DataFrame.\n",
      "Try using .loc[row_indexer,col_indexer] = value instead\n",
      "\n",
      "See the caveats in the documentation: https://pandas.pydata.org/pandas-docs/stable/user_guide/indexing.html#returning-a-view-versus-a-copy\n",
      "  \n"
     ]
    },
    {
     "data": {
      "text/plain": [
       "Pclass        0\n",
       "Sex           0\n",
       "SibSp         0\n",
       "Parch         0\n",
       "Fare          0\n",
       "Cabin         0\n",
       "Embarked      2\n",
       "Age         177\n",
       "dtype: int64"
      ]
     },
     "execution_count": 5,
     "metadata": {},
     "output_type": "execute_result"
    }
   ],
   "source": [
    "X[\"Cabin\"] = X[\"Cabin\"].fillna(0)\n",
    "X[\"Cabin\"] = np.where(X[\"Cabin\"] != 0 ,1,0)\n",
    "\n",
    "X.isna().sum().sort_values()\n",
    "# X[\"Cabin\"]"
   ]
  },
  {
   "cell_type": "code",
   "execution_count": null,
   "id": "32eef81f",
   "metadata": {
    "papermill": {
     "duration": 0.00575,
     "end_time": "2023-03-21T07:01:53.096716",
     "exception": false,
     "start_time": "2023-03-21T07:01:53.090966",
     "status": "completed"
    },
    "tags": []
   },
   "outputs": [],
   "source": []
  },
  {
   "cell_type": "code",
   "execution_count": 6,
   "id": "089521bb",
   "metadata": {
    "execution": {
     "iopub.execute_input": "2023-03-21T07:01:53.111022Z",
     "iopub.status.busy": "2023-03-21T07:01:53.110314Z",
     "iopub.status.idle": "2023-03-21T07:01:53.117783Z",
     "shell.execute_reply": "2023-03-21T07:01:53.116726Z"
    },
    "papermill": {
     "duration": 0.017102,
     "end_time": "2023-03-21T07:01:53.119949",
     "exception": false,
     "start_time": "2023-03-21T07:01:53.102847",
     "status": "completed"
    },
    "tags": []
   },
   "outputs": [
    {
     "data": {
      "text/plain": [
       "0"
      ]
     },
     "execution_count": 6,
     "metadata": {},
     "output_type": "execute_result"
    }
   ],
   "source": [
    "y.isna().sum()"
   ]
  },
  {
   "cell_type": "markdown",
   "id": "9cc6b397",
   "metadata": {
    "papermill": {
     "duration": 0.005902,
     "end_time": "2023-03-21T07:01:53.131909",
     "exception": false,
     "start_time": "2023-03-21T07:01:53.126007",
     "status": "completed"
    },
    "tags": []
   },
   "source": []
  },
  {
   "cell_type": "markdown",
   "id": "7db27fe8",
   "metadata": {
    "papermill": {
     "duration": 0.005875,
     "end_time": "2023-03-21T07:01:53.143973",
     "exception": false,
     "start_time": "2023-03-21T07:01:53.138098",
     "status": "completed"
    },
    "tags": []
   },
   "source": []
  },
  {
   "cell_type": "code",
   "execution_count": 7,
   "id": "4945fbcc",
   "metadata": {
    "execution": {
     "iopub.execute_input": "2023-03-21T07:01:53.158647Z",
     "iopub.status.busy": "2023-03-21T07:01:53.157917Z",
     "iopub.status.idle": "2023-03-21T07:01:54.332240Z",
     "shell.execute_reply": "2023-03-21T07:01:54.330502Z"
    },
    "papermill": {
     "duration": 1.185548,
     "end_time": "2023-03-21T07:01:54.335703",
     "exception": false,
     "start_time": "2023-03-21T07:01:53.150155",
     "status": "completed"
    },
    "tags": []
   },
   "outputs": [],
   "source": [
    "from sklearn.model_selection import train_test_split\n",
    "X_train, X_test, y_train, y_test = train_test_split(X,y , test_size= 0.2,random_state= 21,stratify=y)"
   ]
  },
  {
   "cell_type": "code",
   "execution_count": 8,
   "id": "b73a1b5c",
   "metadata": {
    "execution": {
     "iopub.execute_input": "2023-03-21T07:01:54.351232Z",
     "iopub.status.busy": "2023-03-21T07:01:54.350769Z",
     "iopub.status.idle": "2023-03-21T07:01:54.844086Z",
     "shell.execute_reply": "2023-03-21T07:01:54.842770Z"
    },
    "papermill": {
     "duration": 0.504849,
     "end_time": "2023-03-21T07:01:54.847138",
     "exception": false,
     "start_time": "2023-03-21T07:01:54.342289",
     "status": "completed"
    },
    "tags": []
   },
   "outputs": [],
   "source": [
    "from sklearn.compose import ColumnTransformer\n",
    "from sklearn.pipeline import Pipeline\n",
    "from sklearn.impute import SimpleImputer\n",
    "from sklearn.preprocessing import OneHotEncoder\n",
    "from sklearn.metrics import accuracy_score\n",
    "from sklearn.linear_model import LogisticRegression\n",
    "from sklearn.preprocessing import StandardScaler\n",
    "from sklearn.ensemble import RandomForestClassifier\n",
    "from sklearn.neighbors import KNeighborsClassifier\n",
    "import matplotlib.pyplot as plt\n",
    "\n",
    "categorical_transformer = Pipeline(steps=[\n",
    "    ('imputer', SimpleImputer(strategy='most_frequent')),\n",
    "    ('onehot', OneHotEncoder(handle_unknown='ignore'))\n",
    "])\n",
    "\n",
    "\n",
    "\n",
    "preprocessor = ColumnTransformer(\n",
    "    transformers=[\n",
    "        ('num', SimpleImputer(strategy='constant'), [\"Age\"]),\n",
    "        ('cat', categorical_transformer, [\"Sex\",\"Embarked\",\"Cabin\"])\n",
    "    ])\n",
    "\n",
    "####################checking logi\n",
    "# model = RandomForestClassifier(n_estimators=100, max_depth=5, random_state=1)\n",
    "# model = LogisticRegression(solver='liblinear'\n",
    "# , penalty='l1')\n",
    "# train_errs = list()\n",
    "# valid_errs = list()\n",
    "\n",
    "# # Loop over values of C_value\n",
    "# for C_value in [0.001, 0.01, 0.1, 1, 10, 100, 1000]:\n",
    "#     # Create LogisticRegression object and fit\n",
    "#     pipeline = Pipeline(steps=[('preprocessor', preprocessor),\n",
    "#                            ('scaler',StandardScaler()),\n",
    "#                               ('model', LogisticRegression(C=C_value))\n",
    "#                              ])\n",
    "#     pipeline.fit(X_train,y_train)\n",
    "    \n",
    "#     # Evaluate error rates and append to lists\n",
    "#     train_errs.append( 1.0 - pipeline.score(X_train,y_train) )\n",
    "#     valid_errs.append( 1.0 - pipeline.score(X_test,y_test) )\n",
    "#     y_pred = pipeline.predict(X_test)\n",
    "#     print(accuracy_score(y_pred,y_test))\n",
    "    \n",
    "# # Plot results\n",
    "# plt.semilogx([0.001, 0.01, 0.1, 1, 10, 100, 1000], train_errs, [0.001, 0.01, 0.1, 1, 10, 100, 1000], valid_errs)\n",
    "# plt.legend((\"train\", \"validation\"))\n",
    "# plt.show()\n",
    "\n",
    "############################checking logi ########################################\n",
    "model = KNeighborsClassifier(n_neighbors=6)\n",
    "pipeline = Pipeline(steps=[('preprocessor', preprocessor),\n",
    "                           ('scaler',StandardScaler()),\n",
    "                              ('model', LogisticRegression(C=0.01))\n",
    "                             ])\n",
    "# pipeline.fit(X_train,y_train)\n",
    "# y_pred = pipeline.predict(X_test)\n",
    "# print(accuracy_score(y_pred,y_test))\n",
    "\n",
    "pipeline.fit(X,y)\n",
    "# pipeline.transform(X_test)\n",
    "y_pred = pipeline.predict(test_data[[\"Pclass\",\"Sex\",\"Age\",\"SibSp\",\"Parch\",\"Fare\",\"Cabin\",\"Embarked\"]])\n"
   ]
  },
  {
   "attachments": {
    "c0daf59d-0e38-4488-bbb9-c3b35094b91f.png": {
     "image/png": "[encoded data removed]"
    }
   },
   "cell_type": "markdown",
   "id": "e73eea3f",
   "metadata": {
    "papermill": {
     "duration": 0.00602,
     "end_time": "2023-03-21T07:01:54.859457",
     "exception": false,
     "start_time": "2023-03-21T07:01:54.853437",
     "status": "completed"
    },
    "tags": []
   },
   "source": [
    "![image.png](attachment:c0daf59d-0e38-4488-bbb9-c3b35094b91f.png)"
   ]
  },
  {
   "cell_type": "markdown",
   "id": "cc015533",
   "metadata": {
    "papermill": {
     "duration": 0.005902,
     "end_time": "2023-03-21T07:01:54.871759",
     "exception": false,
     "start_time": "2023-03-21T07:01:54.865857",
     "status": "completed"
    },
    "tags": []
   },
   "source": []
  },
  {
   "cell_type": "code",
   "execution_count": 9,
   "id": "11465b1c",
   "metadata": {
    "execution": {
     "iopub.execute_input": "2023-03-21T07:01:54.886808Z",
     "iopub.status.busy": "2023-03-21T07:01:54.886295Z",
     "iopub.status.idle": "2023-03-21T07:01:54.901241Z",
     "shell.execute_reply": "2023-03-21T07:01:54.899618Z"
    },
    "papermill": {
     "duration": 0.025762,
     "end_time": "2023-03-21T07:01:54.904013",
     "exception": false,
     "start_time": "2023-03-21T07:01:54.878251",
     "status": "completed"
    },
    "tags": []
   },
   "outputs": [
    {
     "name": "stdout",
     "output_type": "stream",
     "text": [
      "Your submission was successfully saved!\n"
     ]
    }
   ],
   "source": [
    "output = pd.DataFrame({'PassengerId': test_data.PassengerId, 'Survived': y_pred})\n",
    "output.to_csv('submissionlessvar.csv', index=False)\n",
    "print(\"Your submission was successfully saved!\")\n",
    "# #li regression --- 0.7653631284916201"
   ]
  },
  {
   "cell_type": "code",
   "execution_count": 10,
   "id": "745cc298",
   "metadata": {
    "execution": {
     "iopub.execute_input": "2023-03-21T07:01:54.919352Z",
     "iopub.status.busy": "2023-03-21T07:01:54.918558Z",
     "iopub.status.idle": "2023-03-21T07:01:54.922814Z",
     "shell.execute_reply": "2023-03-21T07:01:54.921929Z"
    },
    "papermill": {
     "duration": 0.014613,
     "end_time": "2023-03-21T07:01:54.925027",
     "exception": false,
     "start_time": "2023-03-21T07:01:54.910414",
     "status": "completed"
    },
    "tags": []
   },
   "outputs": [],
   "source": [
    "#0.7597765363128491 -- passenger id\n",
    "# 0.7597765363128491\n",
    "# 0.7597765363128491-- without cabin"
   ]
  },
  {
   "cell_type": "markdown",
   "id": "f2492705",
   "metadata": {
    "papermill": {
     "duration": 0.005882,
     "end_time": "2023-03-21T07:01:54.937168",
     "exception": false,
     "start_time": "2023-03-21T07:01:54.931286",
     "status": "completed"
    },
    "tags": []
   },
   "source": []
  }
 ],
 "metadata": {
  "kernelspec": {
   "display_name": "Python 3",
   "language": "python",
   "name": "python3"
  },
  "language_info": {
   "codemirror_mode": {
    "name": "ipython",
    "version": 3
   },
   "file_extension": ".py",
   "mimetype": "text/x-python",
   "name": "python",
   "nbconvert_exporter": "python",
   "pygments_lexer": "ipython3",
   "version": "3.7.12"
  },
  "papermill": {
   "default_parameters": {},
   "duration": 13.508321,
   "end_time": "2023-03-21T07:01:55.868381",
   "environment_variables": {},
   "exception": null,
   "input_path": "__notebook__.ipynb",
   "output_path": "__notebook__.ipynb",
   "parameters": {},
   "start_time": "2023-03-21T07:01:42.360060",
   "version": "2.4.0"
  }
 },
 "nbformat": 4,
 "nbformat_minor": 5
}
